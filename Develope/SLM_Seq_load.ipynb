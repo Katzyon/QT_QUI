{
 "cells": [
  {
   "cell_type": "code",
   "execution_count": 1,
   "metadata": {},
   "outputs": [
    {
     "name": "stdout",
     "output_type": "stream",
     "text": [
      "Detected SLM: MightexPolygon1000 with resolution: 912x1140\n"
     ]
    }
   ],
   "source": [
    "from pycromanager import Core\n",
    "from time import sleep\n",
    "import numpy as np\n",
    "\n",
    "core = Core(convert_camel_case=False)\n",
    "bridge = core._get_bridge() # get the Java bridge to create Java SLM sequence\n",
    "# Create a Java array list to hold the sequence with the flattened images\n",
    "         \n",
    "dmd_name = core.getSLMDevice()\n",
    "slm_width = core.getSLMWidth(dmd_name)\n",
    "slm_height = core.getSLMHeight(dmd_name)\n",
    "print(\"Detected SLM: \" + dmd_name + \" with resolution: \" + str(slm_width) + \"x\" + str(slm_height))\n",
    "\n"
   ]
  },
  {
   "cell_type": "code",
   "execution_count": 2,
   "metadata": {},
   "outputs": [],
   "source": [
    "# randomize the input image array acording to input index vector (randomize the order of the images)\n",
    "def randomize_image_array(DMDArray, rand_vector):\n",
    "    \n",
    "    DMDRandArray = [None] * len(DMDArray)\n",
    "    Randjavaarray = bridge._construct_java_object('java.util.ArrayList')\n",
    "    Randjavaarray.clear()\n",
    "\n",
    "    # Place each image in its new position\n",
    "    for original_idx, new_idx in enumerate(rand_vector):\n",
    "        DMDRandArray[original_idx] = DMDArray[new_idx]\n",
    "        print(\"DMDArray type: \", type(DMDArray[new_idx]))\n",
    "        Randjavaarray.add(DMDArray[new_idx].ravel()) # add the flatten image to the java array list\n",
    "    \n",
    "    return Randjavaarray, DMDRandArray\n"
   ]
  },
  {
   "cell_type": "code",
   "execution_count": 3,
   "metadata": {},
   "outputs": [],
   "source": [
    "# create the image array\n",
    "import os\n",
    "import cv2\n",
    "import matplotlib.pyplot as plt\n",
    "\n",
    "\n",
    "DMD_dir = r\"D:\\DATA\\Patterns\\Test_DO_NOT_DELETE\\Nums\"\n",
    "#DMD_dir = r\"D:\\DATA\\Patterns\\Test_DO_NOT_DELETE\\DMD\"\n",
    "DMD_files = os.listdir(DMD_dir)\n",
    "sorted_file_names = sorted(DMD_files, key=lambda x: int(x.split(\".\")[0]))\n",
    "\n",
    "numimages = 9\n",
    "# numimages = len(sorted_file_names)\n",
    "\n",
    "\n",
    "DMDArray = []\n",
    "DMDRandArray = []\n",
    "image = None\n",
    "\n",
    "for num, filen in enumerate(sorted_file_names): # num starts at 0\n",
    "    if filen.endswith(\".bmp\"):\n",
    "        if num < numimages:\n",
    "            \n",
    "            # read the image and append\n",
    "            image = cv2.imread(os.path.join(DMD_dir, filen), cv2.IMREAD_GRAYSCALE)\n",
    "            # append the image to the array\n",
    "            DMDArray.append(image)\n",
    "\n",
    "        else:\n",
    "            break\n",
    "\n",
    "# create a random vector to randomize the order of the images\n",
    "rand_vector = np.random.choice(range(len(DMDArray)), len(DMDArray), replace=False).tolist()\n"
   ]
  },
  {
   "cell_type": "code",
   "execution_count": 4,
   "metadata": {},
   "outputs": [
    {
     "name": "stdout",
     "output_type": "stream",
     "text": [
      "DMDArray type:  <class 'numpy.ndarray'>\n",
      "DMDArray type:  <class 'numpy.ndarray'>\n",
      "DMDArray type:  <class 'numpy.ndarray'>\n",
      "DMDArray type:  <class 'numpy.ndarray'>\n",
      "DMDArray type:  <class 'numpy.ndarray'>\n",
      "DMDArray type:  <class 'numpy.ndarray'>\n",
      "DMDArray type:  <class 'numpy.ndarray'>\n",
      "DMDArray type:  <class 'numpy.ndarray'>\n",
      "DMDArray type:  <class 'numpy.ndarray'>\n",
      "imageIndex 3 is similar to 3\n",
      "num: 3 located at index: 0\n"
     ]
    },
    {
     "data": {
      "image/png": "[encoded data removed]",
      "text/plain": [
       "<Figure size 640x480 with 3 Axes>"
      ]
     },
     "metadata": {},
     "output_type": "display_data"
    },
    {
     "data": {
      "image/png": "[encoded data removed]",
      "text/plain": [
       "<Figure size 640x480 with 18 Axes>"
      ]
     },
     "metadata": {},
     "output_type": "display_data"
    },
    {
     "name": "stdout",
     "output_type": "stream",
     "text": [
      "randvector [3, 1, 2, 8, 6, 5, 7, 4, 0]\n"
     ]
    }
   ],
   "source": [
    "\n",
    "\n",
    "Randjavaarray, DMDRandArray = randomize_image_array(DMDArray, rand_vector)\n",
    "\n",
    "# finds where the number \"0\" is in the rand_vector\n",
    "#randArray0 = np.where(rand_vector == 0)\n",
    "imageIndex = 3 # the index to look for\n",
    "randArray0_index = rand_vector.index(imageIndex)\n",
    "print(\"imageIndex\", imageIndex, \"is similar to\", rand_vector[randArray0_index])\n",
    "print(\"num:\", imageIndex, 'located at index:', randArray0_index)\n",
    "\n",
    "# create a figure with two subplots\n",
    "fig, (ax1, ax2, ax3) = plt.subplots(1, 3)\n",
    "# plot the first image in the DMDArray\n",
    "ax1.imshow(DMDArray[imageIndex])\n",
    "# plot the image in the DMDRandArray at the index of randArray0\n",
    "ax2.imshow(DMDRandArray[randArray0_index])   # randArray0[0][0]\n",
    "# plot in ax3 the difference between the two images\n",
    "ax3.imshow(DMDArray[imageIndex] - DMDRandArray[randArray0_index])\n",
    "\n",
    "# Sanity check\n",
    "# plot all images in DMDArray in one row and below it the DMDRandArray in second row\n",
    "fig, (ax1, ax2) = plt.subplots(2, numimages)\n",
    "for i in range(numimages):\n",
    "    ax1[i].imshow(DMDArray[i])\n",
    "    ax2[i].imshow(DMDRandArray[i])\n",
    "plt.show()\n",
    "print(\"randvector\", rand_vector)\n"
   ]
  },
  {
   "cell_type": "code",
   "execution_count": null,
   "metadata": {},
   "outputs": [],
   "source": [
    "# load new random sequence to the SLM\n",
    "def Load_SLM_Rand_Seq(DMDArray):\n",
    "    \n",
    "    rand_vector = np.random.choice(range(len(DMDArray)), len(DMDArray), replace=False).tolist()\n",
    "    Randjavaarray, DMDRandArray = randomize_image_array(DMDArray, rand_vector)\n",
    "    # load sequence to SLM\n",
    "    core.loadSLMSequence(dmd_name, Randjavaarray)\n",
    "    # start sequence\n",
    "    core.startSLMSequence(dmd_name)\n",
    "\n",
    "\n",
    "\n",
    "    "
   ]
  },
  {
   "cell_type": "code",
   "execution_count": null,
   "metadata": {},
   "outputs": [],
   "source": [
    "# play the sequence in the SLM\n",
    "from time import sleep\n",
    "\n",
    "# rand_vector = np.random.choice(range(len(DMDArray)), len(DMDArray), replace=False).tolist()\n",
    "# print(\"rand_vector\", rand_vector)\n",
    "# #print(\"image shape\", DMDArray[0].shape)\n",
    "# print(\"DMDArray length\", len(DMDArray))\n",
    "# # rearrange the images in the array according to the random vector\n",
    "# Randjavaarray, DMDRandArray = randomize_image_array(DMDArray, rand_vector)\n",
    "# print(\"Randjavaarray length\", Randjavaarray.size()) # each row corresponds to one flatten image\n",
    "\n",
    "\n",
    "# # load sequence to SLM\n",
    "# core.loadSLMSequence(dmd_name, Randjavaarray)\n",
    "# # start sequence\n",
    "# core.startSLMSequence(dmd_name)\n",
    "\n",
    "\n",
    "\n",
    "cnt = 8\n",
    "loops = 8\n",
    "allcount = 0\n",
    "sleep_time = 1\n",
    "# measure the time it takes to run the loop\n",
    "import time\n",
    "start = time.time()\n",
    "\n",
    "\n",
    "# loop through cnt*loops times\n",
    "for i in range(loops): # starts from 0\n",
    "\t# create and load new random sequence to the SLM\n",
    "\tLoad_SLM_Rand_Seq(DMDArray)\n",
    "\tfor counter in range(cnt):\n",
    "\t\tallcount += 1\n",
    "\n",
    "\t\t# sleep for 1 second\n",
    "\t\t\n",
    "\t\tcore.displaySLMImage(dmd_name)\n",
    "\t\tsleep(sleep_time)\n",
    "\t\tprint(\"count :\" + str(counter), \"loop\", str(i))\n",
    "\tcore.stopSLMSequence(dmd_name)\n",
    "\t# sleep for 1 second\n",
    "\t# sleep(1)\n",
    "\t# core.displaySLMImage(dmd_name)\n",
    "\t\n",
    "\n",
    "# measure the end time\n",
    "end = time.time()\n",
    "# calculate the total time it took to run the loop\n",
    "print(\"total time:\", end - start)\n",
    "\n",
    "# theoretical time it should take to run the loop\n",
    "theoretical_time = cnt * loops * sleep_time\n",
    "print(\"theoretical time:\", theoretical_time)\n",
    "\n",
    "\n",
    "\n"
   ]
  },
  {
   "cell_type": "code",
   "execution_count": null,
   "metadata": {},
   "outputs": [],
   "source": [
    "# java array manipulations\n",
    "\n",
    "# import java.util.ArrayList;\n",
    "# import java.util.Collections;\n",
    "\n",
    "        # Add the flattened image to the Java array list\n",
    "        #DMDjavaarray.add(image.ravel())\n",
    "        # print the number of rows in the java array list\n",
    "        #print(\"randnum type\", type(int(rand_vector[num])))\n",
    "        #Randjavaarray.set(int(rand_vector[num]), image.ravel())\n",
    "\n",
    "\n",
    "# Remove the first image in the array\n",
    "#DMDjavaarray.remove(10) # might not work - the array size is not changing\n",
    "# print the length of the array\n",
    "#print(\"Number of images\", DMDArray.size())\n",
    "# set the first image in the second vector of the arrray\n",
    "# vectorToReplace = 4\n",
    "# a = DMDjavaarray.set(vectorToReplace, DMDjavaarray.get(0))\n",
    "# print(len(a)) \n",
    "\n"
   ]
  }
 ],
 "metadata": {
  "kernelspec": {
   "display_name": "patt",
   "language": "python",
   "name": "python3"
  },
  "language_info": {
   "codemirror_mode": {
    "name": "ipython",
    "version": 3
   },
   "file_extension": ".py",
   "mimetype": "text/x-python",
   "name": "python",
   "nbconvert_exporter": "python",
   "pygments_lexer": "ipython3",
   "version": "3.11.3"
  }
 },
 "nbformat": 4,
 "nbformat_minor": 2
}
