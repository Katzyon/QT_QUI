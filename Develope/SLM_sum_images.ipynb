{
 "cells": [
  {
   "cell_type": "code",
   "execution_count": 12,
   "metadata": {},
   "outputs": [
    {
     "name": "stdout",
     "output_type": "stream",
     "text": [
      "170  : 170.bmp (1140, 912)\n"
     ]
    }
   ],
   "source": [
    "%matplotlib inline\n",
    "import os\n",
    "import cv2\n",
    "import numpy as np\n",
    "import matplotlib.pyplot as plt\n",
    "from matplotlib.animation import FuncAnimation\n",
    "from IPython.display import display, HTML\n",
    "\n",
    "\n",
    "DMD_dir = r\"D:\\DATA\\Patterns\\Patt_2023-11-06\\DMD\"\n",
    "DMD_images = []\n",
    "\n",
    "# list all the files in the DMD_dir\n",
    "DMD_files = os.listdir(DMD_dir)\n",
    "sorted_file_names = sorted(DMD_files, key=lambda x: int(x.split(\".\")[0]))\n",
    "DMD_images = []\n",
    "\n",
    "# create the DMD_images array\n",
    "for filen in sorted_file_names:\n",
    "    if filen.endswith(\".bmp\"):\n",
    "        # read the image and append\n",
    "        image = cv2.imread(os.path.join(DMD_dir, filen), cv2.IMREAD_GRAYSCALE)\n",
    "        DMD_images.append(image)\n",
    "        # print the size the DMD_images array\n",
    "print(len(DMD_images), \" :\", filen, image.shape)"
   ]
  },
  {
   "cell_type": "code",
   "execution_count": null,
   "metadata": {},
   "outputs": [],
   "source": [
    "# Animate all the cells in the DMD_images array\n",
    "import matplotlib.pyplot as plt\n",
    "from matplotlib.animation import FuncAnimation\n",
    "import numpy as np\n",
    "\n",
    "\n",
    "num_frames = len(DMD_images)\n",
    "# Create a figure and axis\n",
    "fig, ax = plt.subplots()\n",
    "\n",
    "# Function to update the displayed image\n",
    "def update(frame):\n",
    "    ax.clear()\n",
    "    ax.imshow(DMD_images[frame], cmap='gray')\n",
    "    ax.set_title(f'Frame {frame + 1}/{num_frames}')\n",
    "\n",
    "# Create an animation object\n",
    "animation = FuncAnimation(fig, update, frames=num_frames, interval=100)  # Change the interval as needed (in milliseconds)\n",
    "\n",
    "# Display the animation in the notebook\n",
    "display(HTML(animation.to_jshtml()))\n"
   ]
  },
  {
   "cell_type": "code",
   "execution_count": 18,
   "metadata": {},
   "outputs": [
    {
     "data": {
      "image/png": "[encoded data removed]",
      "text/plain": [
       "<Figure size 1000x1000 with 1 Axes>"
      ]
     },
     "metadata": {},
     "output_type": "display_data"
    }
   ],
   "source": [
    "# Display sum image of random cells\n",
    "\n",
    "summed_image = np.zeros_like(DMD_images[0])\n",
    "num_images_to_display = 20\n",
    "# pick random num_images_to_display from the length of DMD_images array\n",
    "random_images = np.random.choice(len(DMD_images), num_images_to_display)\n",
    "\n",
    "for _ in range(num_images_to_display):\n",
    "    summed_image += DMD_images[random_images[_]]\n",
    "\n",
    "plt.figure(figsize=(10, 10))\n",
    "plt.imshow(summed_image, cmap=\"gray\")\n",
    "plt.show()\n"
   ]
  },
  {
   "cell_type": "code",
   "execution_count": 35,
   "metadata": {},
   "outputs": [
    {
     "name": "stdout",
     "output_type": "stream",
     "text": [
      "Group 1: [105, 99, 167, 146, 51, 38, 122, 151, 6, 168]\n",
      "6  :  168\n",
      "Group 2: [85, 24, 141, 142, 58, 25, 150, 3, 110, 120]\n",
      "3  :  150\n",
      "Group 3: [20, 28, 27, 89, 159, 157, 68, 79, 31, 62]\n",
      "20  :  159\n",
      "Group 4: [117, 87, 22, 64, 15, 98, 55, 121, 163, 73]\n",
      "15  :  163\n",
      "Group 5: [13, 132, 72, 118, 71, 84, 9, 129, 33, 8]\n",
      "8  :  132\n",
      "Group 6: [29, 34, 112, 113, 93, 130, 57, 136, 83, 124]\n",
      "29  :  136\n",
      "Group 7: [149, 158, 140, 115, 81, 4, 156, 169, 21, 7]\n",
      "4  :  169\n",
      "Group 8: [42, 126, 147, 125, 37, 54, 107, 154, 162, 76]\n",
      "37  :  162\n",
      "Group 9: [17, 96, 164, 48, 2, 65, 128, 1, 50, 74]\n",
      "1  :  164\n",
      "Group 10: [111, 53, 148, 155, 109, 16, 161, 56, 139, 88]\n",
      "16  :  161\n",
      "Group 11: [45, 103, 95, 145, 144, 35, 91, 67, 137, 90]\n",
      "35  :  145\n",
      "Group 12: [153, 143, 43, 61, 80, 40, 101, 75, 70, 52]\n",
      "40  :  153\n",
      "Group 13: [102, 165, 26, 36, 127, 66, 39, 108, 134, 166]\n",
      "26  :  166\n",
      "Group 14: [59, 46, 14, 131, 104, 63, 18, 49, 114, 152]\n",
      "14  :  152\n",
      "Group 15: [69, 138, 47, 106, 23, 44, 170, 19, 5, 78]\n",
      "5  :  170\n",
      "Group 16: [10, 77, 160, 11, 100, 135, 60, 82, 94, 123]\n",
      "10  :  160\n",
      "Group 17: [32, 133, 30, 119, 92, 86, 41, 12, 116, 97]\n",
      "12  :  133\n"
     ]
    }
   ],
   "source": [
    "# create random groups of images\n",
    "\n",
    "import random\n",
    "\n",
    "# Number of objects (n) and group size (m)\n",
    "n = len(DMD_images)  # Change this to the number of your objects\n",
    "m = 10 # number of cells in each group\n",
    "\n",
    "# Create a list of unique objects (e.g., numbers, strings, or any objects)\n",
    "objects = list(range(1, n + 1))  # Replace this with your list of objects\n",
    "\n",
    "# Calculate the number of groups (n/m)\n",
    "num_groups = n // m\n",
    "\n",
    "# Create random groups\n",
    "random.shuffle(objects)  # Shuffle the list of objects randomly\n",
    "\n",
    "groups = []\n",
    "for i in range(num_groups):\n",
    "    group = random.sample(objects, m) # Pick m objects randomly\n",
    "    groups.append(group)\n",
    "    for item in group:\n",
    "        objects.remove(item)  # Remove items from the main list\n",
    "\n",
    "# Handle remaining objects if any\n",
    "if objects:\n",
    "    groups.append(objects)\n",
    "\n",
    "# Display the groups\n",
    "for i, group in enumerate(groups, start=1):\n",
    "    print(f\"Group {i}: {group}\")\n",
    "    print(min(group), \" : \", max(group))\n",
    "    \n",
    "\n",
    "\n"
   ]
  },
  {
   "cell_type": "code",
   "execution_count": null,
   "metadata": {},
   "outputs": [],
   "source": [
    "# create summed images for each group\n",
    "summed_images = []\n",
    "for group in groups:\n",
    "    summed_image = np.zeros_like(DMD_images[0])\n",
    "    for n in group:\n",
    "        #print(n)\n",
    "        summed_image += DMD_images[n-1]\n",
    "    summed_images.append(summed_image)\n",
    "\n",
    "# display the summed images in animation\n",
    "num_frames = len(summed_images)\n",
    "# Create a figure and axis\n",
    "fig, ax = plt.subplots()\n",
    "\n",
    "def update(frame):\n",
    "    ax.clear()\n",
    "    ax.imshow(summed_images[frame], cmap='gray')\n",
    "    ax.set_title(f'Frame {frame + 1}/{num_frames}')\n",
    "\n",
    "# Create an animation object\n",
    "animation = FuncAnimation(fig, update, frames=num_frames, interval=200)  # Change the interval as needed (in milliseconds)\n",
    "\n",
    "# Display the animation in the notebook\n",
    "display(HTML(animation.to_jshtml()))\n",
    "\n"
   ]
  }
 ],
 "metadata": {
  "kernelspec": {
   "display_name": "patt",
   "language": "python",
   "name": "python3"
  },
  "language_info": {
   "codemirror_mode": {
    "name": "ipython",
    "version": 3
   },
   "file_extension": ".py",
   "mimetype": "text/x-python",
   "name": "python",
   "nbconvert_exporter": "python",
   "pygments_lexer": "ipython3",
   "version": "3.11.3"
  }
 },
 "nbformat": 4,
 "nbformat_minor": 2
}
