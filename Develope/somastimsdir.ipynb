{
 "cells": [
  {
   "cell_type": "code",
   "execution_count": 25,
   "metadata": {},
   "outputs": [
    {
     "name": "stdout",
     "output_type": "stream",
     "text": [
      "Detected SLM: MightexPolygon1000 with resolution: 912x1140\n",
      "Max sequence lenght: 2000\n"
     ]
    }
   ],
   "source": [
    "# project all soma images with the SLM \n",
    "\n",
    "from pycromanager import Core\n",
    "import os\n",
    "from time import sleep\n",
    "import cv2\n",
    "import numpy as np\n",
    "\n",
    "core = Core(convert_camel_case=False)\n",
    "sleep(2)\n",
    "dmd_name = core.getSLMDevice()\n",
    "slm_width = core.getSLMWidth(dmd_name)\n",
    "slm_height = core.getSLMHeight(dmd_name)\n",
    "print(\"Detected SLM: \" + dmd_name + \" with resolution: \" + str(slm_width) + \"x\" + str(slm_height))\n",
    "seq_lenght = core.getSLMSequenceMaxLength(dmd_name)\n",
    "print(\"Max sequence lenght: \" + str(seq_lenght))\n",
    "# set trigger mode to software\n",
    "core.setProperty(dmd_name, 'TriggerType', 0)\n",
    "#mmc.setProperty(polygon, \"TriggerType\", 0); // 0=no trigger"
   ]
  },
  {
   "cell_type": "code",
   "execution_count": 26,
   "metadata": {},
   "outputs": [
    {
     "name": "stdout",
     "output_type": "stream",
     "text": [
      "['1.bmp', '2.bmp', '3.bmp', '4.bmp', '5.bmp', '6.bmp', '7.bmp', '8.bmp', '9.bmp', '10.bmp', '11.bmp', '12.bmp', '13.bmp', '14.bmp', '15.bmp', '16.bmp', '17.bmp', '18.bmp', '19.bmp', '20.bmp', '21.bmp', '22.bmp', '23.bmp', '24.bmp', '25.bmp', '26.bmp', '27.bmp', '28.bmp', '29.bmp', '30.bmp', '31.bmp', '32.bmp', '33.bmp', '34.bmp', '35.bmp', '36.bmp', '37.bmp', '38.bmp', '39.bmp', '40.bmp', '41.bmp', '42.bmp', '43.bmp', '44.bmp', '45.bmp', '46.bmp', '47.bmp', '48.bmp', '49.bmp', '50.bmp', '51.bmp', '52.bmp', '53.bmp', '54.bmp', '55.bmp', '56.bmp', '57.bmp', '58.bmp', '59.bmp', '60.bmp', '61.bmp', '62.bmp', '63.bmp', '64.bmp', '65.bmp', '66.bmp', '67.bmp', '68.bmp', '69.bmp', '70.bmp', '71.bmp', '72.bmp', '73.bmp', '74.bmp', '75.bmp', '76.bmp', '77.bmp', '78.bmp', '79.bmp', '80.bmp', '81.bmp', '82.bmp', '83.bmp', '84.bmp', '85.bmp', '86.bmp', '87.bmp', '88.bmp', '89.bmp', '90.bmp', '91.bmp', '92.bmp', '93.bmp', '94.bmp', '95.bmp', '96.bmp', '97.bmp', '98.bmp', '99.bmp', '100.bmp', '101.bmp', '102.bmp', '103.bmp', '104.bmp', '105.bmp', '106.bmp', '107.bmp', '108.bmp', '109.bmp', '110.bmp', '111.bmp', '112.bmp', '113.bmp', '114.bmp', '115.bmp', '116.bmp', '117.bmp', '118.bmp', '119.bmp', '120.bmp', '121.bmp', '122.bmp', '123.bmp', '124.bmp', '125.bmp', '126.bmp', '127.bmp', '128.bmp', '129.bmp', '130.bmp', '131.bmp', '132.bmp', '133.bmp', '134.bmp', '135.bmp', '136.bmp', '137.bmp', '138.bmp', '139.bmp', '140.bmp', '141.bmp', '142.bmp', '143.bmp', '144.bmp', '145.bmp', '146.bmp', '147.bmp', '148.bmp', '149.bmp', '150.bmp', '151.bmp', '152.bmp', '153.bmp', '154.bmp', '155.bmp', '156.bmp', '157.bmp', '158.bmp', '159.bmp', '160.bmp', '161.bmp', '162.bmp', '163.bmp', '164.bmp', '165.bmp', '166.bmp', '167.bmp', '168.bmp', '169.bmp', '170.bmp']\n"
     ]
    }
   ],
   "source": [
    "#DMD_dir = r\"D:\\DATA\\Patterns\\Patt_2023-11-02\\RectMov\"\n",
    "#DMD_dir = r\"D:\\DATA\\Patterns\\Patt_2023-11-02\\DMD\"\n",
    "DMD_dir = r\"D:\\DATA\\Patterns\\Patt_2023-11-06\\DMD\"\n",
    "DMD_files = os.listdir(DMD_dir)\n",
    "sorted_file_names = sorted(DMD_files, key=lambda x: int(x.split(\".\")[0]))\n",
    "\n",
    "print(sorted_file_names)\n",
    "# print file names\n",
    "# for filen in sorted_file_names:\n",
    "#     print(filen)\n"
   ]
  },
  {
   "cell_type": "code",
   "execution_count": 27,
   "metadata": {},
   "outputs": [
    {
     "name": "stdout",
     "output_type": "stream",
     "text": [
      "170  : 170.bmp (1140, 912)\n"
     ]
    }
   ],
   "source": [
    "# loading all image files into an array - before projection!!!!\n",
    "DMD_images = []\n",
    "\n",
    "for filen in sorted_file_names:\n",
    "    if filen.endswith(\".bmp\"):\n",
    "        # read the image and append\n",
    "        image = cv2.imread(os.path.join(DMD_dir, filen), cv2.IMREAD_GRAYSCALE)\n",
    "        DMD_images.append(image)\n",
    "        # print the size the DMD_images array\n",
    "print(len(DMD_images), \" :\", filen, image.shape)\n",
    "        \n",
    "\n"
   ]
  },
  {
   "cell_type": "code",
   "execution_count": 29,
   "metadata": {},
   "outputs": [],
   "source": [
    "\n",
    "# project the images in a loop\n",
    "for n in range(2):\n",
    "    for idx, image in enumerate(DMD_images):\n",
    "        if idx < 90:\n",
    "            core.setSLMImage(dmd_name, image)\n",
    "            sleep(0.05)\n",
    "            core.displaySLMImage(dmd_name)\n",
    "            #empty slm buffer ?\n",
    "            #print(f\"Image {idx+1} shape:\", image.shape)\n",
    "            sleep(0.1)\n",
    "    print(f\"Image {n+1} shape:\", image.shape)\n",
    "\n",
    "# present only one image for 5 seconds\n",
    "# core.setSLMImage(dmd_name ,DMD_images[0])\n",
    "# core.displaySLMImage(dmd_name)\n",
    "# sleep(5)\n",
    "\n",
    "# clear the DMD by projecting a black image\n",
    "black_image = np.zeros((slm_width, slm_height), dtype=np.uint8)\n",
    "core.setSLMImage(dmd_name, black_image)\n",
    "sleep(0.01)\n",
    "core.displaySLMImage(dmd_name)\n",
    "\n"
   ]
  },
  {
   "cell_type": "code",
   "execution_count": null,
   "metadata": {},
   "outputs": [],
   "source": [
    "print(len(DMD_images))"
   ]
  }
 ],
 "metadata": {
  "kernelspec": {
   "display_name": "patt",
   "language": "python",
   "name": "python3"
  },
  "language_info": {
   "codemirror_mode": {
    "name": "ipython",
    "version": 3
   },
   "file_extension": ".py",
   "mimetype": "text/x-python",
   "name": "python",
   "nbconvert_exporter": "python",
   "pygments_lexer": "ipython3",
   "version": "3.11.3"
  }
 },
 "nbformat": 4,
 "nbformat_minor": 2
}
