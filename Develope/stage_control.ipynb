{
 "cells": [
  {
   "cell_type": "code",
   "execution_count": null,
   "id": "22d59121",
   "metadata": {},
   "outputs": [
    {
     "name": "stdout",
     "output_type": "stream",
     "text": [
      "['COM9', 'COM8', 'MightexPolygon1000', 'Camera-1', 'XYStage', 'ZStage', 'DHub', 'DObjective', 'Core']\n",
      "Stage device: XYStage\n",
      "Stage position: X=-456.8, Y=0\n"
     ]
    }
   ],
   "source": [
    "from pycromanager import Core\n",
    "# select pattern kernel\n",
    "core = Core()\n",
    "devices = [core.get_loaded_devices().get(i) for i in range(core.get_loaded_devices().size())]\n",
    "print(devices)\n",
    "z_device = core.get_focus_device()\n",
    "\n",
    "# core.define_pixel_size_config(\"Objective-A\", \"DObjective\", \"Label\", \"Objective-A\")\n",
    "# core.set_pixel_size_um(\"Objective-A\", 0.55)\n",
    "# core.set_pixel_size_config(\"Objective-A\")\n",
    "\n",
    "stage = core.get_xy_stage_device()\n",
    "print(f\"Stage device: {stage}\")\n",
    "#print(dir(core))\n",
    "#z = core.get_position(z_device)\n",
    "x = core.get_x_position(stage)\n",
    "y = core.get_y_position(stage)\n",
    "print(f\"Stage position: X={x}, Y={y}\")\n",
    "# core.set_origin(stage)\n",
    "#core.set_origin_xy(stage)\n",
    "core.set_xy_position(x, y+200)  # X=10 mm, Y=20 mm\n",
    "core.wait_for_device(stage)  # Wait for the stage to finish moving  \n",
    "\n",
    "# x_new = core.get_x_position(stage)\n",
    "# y_new = core.get_y_position(stage)\n",
    "# print(f\"Stage position: X={x_new}, Y={y_new}\")\n"
   ]
  },
  {
   "cell_type": "code",
   "execution_count": 18,
   "id": "82956087",
   "metadata": {},
   "outputs": [
    {
     "name": "stdout",
     "output_type": "stream",
     "text": [
      "Stage position: X=2597.1000000000004, Y=0\n",
      "Stage position: X=2697.1000000000004, Y=99.9\n"
     ]
    }
   ],
   "source": [
    "x = core.get_x_position(stage)\n",
    "y = core.get_y_position(stage)\n",
    "print(f\"Stage position: X={x}, Y={y}\")\n",
    "\n",
    "core.set_xy_position(x+100, y+100)  # X=10 mm, Y=20 mm\n",
    "core.wait_for_device(stage)  # Wait for the stage to finish moving  \n",
    "\n",
    "x_new = core.get_x_position(stage)\n",
    "y_new = core.get_y_position(stage)\n",
    "print(f\"Stage position: X={x_new}, Y={y_new}\")"
   ]
  },
  {
   "cell_type": "code",
   "execution_count": null,
   "id": "93c7a94f",
   "metadata": {},
   "outputs": [],
   "source": [
    "from pycromanager import Core\n",
    "\n",
    "mmc = Core()  # This gives you the proper wrapper with user-friendly methods\n",
    "\n",
    "# Now list available methods\n",
    "methods = [m for m in dir(mmc) if not m.startswith(\"__\")]\n",
    "for method in methods:\n",
    "    print(method)"
   ]
  },
  {
   "cell_type": "code",
   "execution_count": null,
   "id": "dc878596",
   "metadata": {},
   "outputs": [
    {
     "name": "stdout",
     "output_type": "stream",
     "text": [
      "Current XY position: X = 0.00 µm, Y = 0.00 µm\n",
      "Current XY position: X = -199.90 µm, Y = -200.00 µm\n"
     ]
    }
   ],
   "source": [
    "#core.set_origin_xy(stage)\n",
    "# Read the current X and Y positions\n",
    "#core.set_origin_xy(stage)\n",
    "#stage = core.get_xy_stage_device()\n",
    "x = core.get_x_position(stage) # the y coordinates in maxone chip\n",
    "y = core.get_y_position(stage) # the x coordinates in maxone chip\n",
    "\n",
    "# Print the position\n",
    "print(f\"Current XY position: X = {x:.2f} µm, Y = {y:.2f} µm\")\n",
    "\n",
    "# Move to absolute position (in µm)\n",
    "core.set_xy_position(x-200, y-200)  # X=10 mm, Y=20 mm\n",
    "core.wait_for_device(stage)  # Wait for the stage to finish moving  \n",
    "x = core.get_x_position(stage)\n",
    "y = core.get_y_position(stage)\n",
    "print(f\"Current XY position: X = {x:.2f} µm, Y = {y:.2f} µm\")\n"
   ]
  },
  {
   "cell_type": "code",
   "execution_count": null,
   "id": "5c55f621",
   "metadata": {},
   "outputs": [
    {
     "name": "stdout",
     "output_type": "stream",
     "text": [
      "Current XY position: X = 0.00 µm, Y = 0.00 µm\n",
      "Current XY position: X = -200.00 µm, Y = -200.00 µm\n"
     ]
    }
   ],
   "source": [
    "core.set_adapter_origin_xy(stage, 0.0, 0.0)\n",
    "x = core.get_x_position(stage)\n",
    "y = core.get_y_position(stage)\n",
    "print(f\"Current XY position: X = {x:.2f} µm, Y = {y:.2f} µm\")\n",
    "\n",
    "core.set_xy_position(x-200, y-200)  # X=10 mm, Y=20 mm\n",
    "core.wait_for_device(stage)  # Wait for the stage to finish moving  \n",
    "x = core.get_x_position(stage)\n",
    "y = core.get_y_position(stage)\n",
    "print(f\"Current XY position: X = {x:.2f} µm, Y = {y:.2f} µm\")"
   ]
  },
  {
   "cell_type": "code",
   "execution_count": null,
   "id": "c3fad887",
   "metadata": {},
   "outputs": [
    {
     "name": "stdout",
     "output_type": "stream",
     "text": [
      "Stage position: X=-0.1, Y=0\n",
      "Stage position: X=-2200.1, Y=0\n",
      "Stage position: X=-2200.1, Y=3899.9\n",
      "Stage position: X=-0.1, Y=3899.9\n",
      "Stage position: X=-0.1, Y=0.1\n"
     ]
    }
   ],
   "source": [
    "# Move along the corners of MaxOne chip\n",
    "from time import sleep\n",
    "\n",
    "positions = [(0, 0), (-2200, 0), (-2200, 3900), (0, 3900), (0, 0)]\n",
    "for pos in positions:\n",
    "    core.set_xy_position(pos[0], pos[1])\n",
    "    core.wait_for_device(stage)  # Wait for the stage to finish moving\n",
    "\n",
    "    sleep(1)  # Optional: wait for a second to observe the position change\n",
    "    x_new = core.get_x_position(stage)\n",
    "    y_new = core.get_y_position(stage)\n",
    "    print(f\"Stage position: X={x_new}, Y={y_new}\")\n"
   ]
  },
  {
   "cell_type": "code",
   "execution_count": null,
   "id": "48308046",
   "metadata": {},
   "outputs": [
    {
     "name": "stdout",
     "output_type": "stream",
     "text": [
      "Stage position: X=-1050, Y=1942.6000000000001\n"
     ]
    }
   ],
   "source": [
    "# chip size 120/220 pixels each pixel is 17.5 microns\n",
    "step = 17.5\n",
    "x = 60\n",
    "y = 111\n",
    "pos = (-x*step, y*step)  # Move to the origin\n",
    "core.set_xy_position(pos[0], pos[1])\n",
    "core.wait_for_device(stage)  # Wait for the stage to finish moving\n",
    "\n",
    "sleep(1)  # Optional: wait for a second to observe the position change\n",
    "x_new = core.get_x_position(stage)\n",
    "y_new = core.get_y_position(stage)\n",
    "print(f\"Stage position: X={x_new}, Y={y_new}\")"
   ]
  }
 ],
 "metadata": {
  "kernelspec": {
   "display_name": "pattern",
   "language": "python",
   "name": "python3"
  },
  "language_info": {
   "codemirror_mode": {
    "name": "ipython",
    "version": 3
   },
   "file_extension": ".py",
   "mimetype": "text/x-python",
   "name": "python",
   "nbconvert_exporter": "python",
   "pygments_lexer": "ipython3",
   "version": "3.11.11"
  }
 },
 "nbformat": 4,
 "nbformat_minor": 5
}
