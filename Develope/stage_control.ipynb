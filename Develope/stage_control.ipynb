{
 "cells": [
  {
   "cell_type": "code",
   "execution_count": 2,
   "id": "bba69f64",
   "metadata": {},
   "outputs": [
    {
     "name": "stdout",
     "output_type": "stream",
     "text": [
      "['COM9', 'COM8', 'XYStage', 'ZStage', 'Core']\n",
      "Stage device: XYStage\n",
      "Stage position: X=5247.400000000001, Y=-180.5\n"
     ]
    }
   ],
   "source": [
    "from pycromanager import Core\n",
    "# select pattern kernel\n",
    "core = Core()\n",
    "devices = [core.get_loaded_devices().get(i) for i in range(core.get_loaded_devices().size())]\n",
    "print(devices)\n",
    "#z_device = core.get_focus_device()\n",
    "\n",
    "# core.define_pixel_size_config(\"Objective-A\", \"DObjective\", \"Label\", \"Objective-A\")\n",
    "# core.set_pixel_size_um(\"Objective-A\", 0.55)\n",
    "# core.set_pixel_size_config(\"Objective-A\")\n",
    "\n",
    "stage = core.get_xy_stage_device()\n",
    "print(f\"Stage device: {stage}\")\n",
    "#print(dir(core))\n",
    "#z = core.get_position(z_device)\n",
    "x = core.get_x_position(stage)\n",
    "y = core.get_y_position(stage)\n",
    "print(f\"Stage position: X={x}, Y={y}\")\n",
    "# core.set_origin(stage)\n",
    "#core.set_origin_xy(stage)\n",
    "\n",
    "# core.set_xy_position(stage, x, y+200)  # X=10 mm, Y=20 mm\n",
    "# core.wait_for_device(stage)  # Wait for the stage to finish moving  \n",
    "\n",
    "# x_new = core.get_x_position(stage)\n",
    "# y_new = core.get_y_position(stage)\n",
    "# print(f\"Stage position: X={x_new}, Y={y_new}\")"
   ]
  },
  {
   "cell_type": "code",
   "execution_count": null,
   "id": "c69e42b2",
   "metadata": {},
   "outputs": [
    {
     "name": "stdout",
     "output_type": "stream",
     "text": [
      "XY stage: XYStage\n",
      "Current: X=5217.1, Y=-139.9\n",
      "Nudging +5 um in Y\n",
      "Nudging -5 um in Y\n",
      "zero move\n"
     ]
    }
   ],
   "source": [
    "from pycromanager import Core\n",
    "\n",
    "core = Core()\n",
    "stage = core.get_xy_stage_device()\n",
    "print(f\"XY stage: {stage}\")\n",
    "\n",
    "x = core.get_x_position(stage)\n",
    "y = core.get_y_position(stage)\n",
    "print(f\"Stage position: X={x}, Y={y}\")"
   ]
  },
  {
   "cell_type": "code",
   "execution_count": null,
   "id": "82956087",
   "metadata": {},
   "outputs": [
    {
     "name": "stdout",
     "output_type": "stream",
     "text": [
      "Stage position: X=5217.1, Y=-139.9\n"
     ]
    }
   ],
   "source": [
    "x = core.get_x_position(stage)\n",
    "y = core.get_y_position(stage)\n",
    "print(f\"Stage position: X={x}, Y={y}\")\n",
    "\n",
    "core.set_xy_position(stage, x+100, y+100)  # X=10 mm, Y=20 mm\n",
    "core.wait_for_device(stage)  # Wait for the stage to finish moving  \n",
    "\n",
    "x_new = core.get_x_position(stage)\n",
    "y_new = core.get_y_position(stage)\n",
    "print(f\"Stage position: X={x_new}, Y={y_new}\")"
   ]
  },
  {
   "cell_type": "code",
   "execution_count": 3,
   "id": "93c7a94f",
   "metadata": {},
   "outputs": [
    {
     "name": "stdout",
     "output_type": "stream",
     "text": [
      "XY stage: XYStage\n",
      "Stage position: X=0, Y=99.9\n",
      "After move: X=0, Y=110\n",
      "After move: X=-200, Y=-100.10000000000001\n"
     ]
    }
   ],
   "source": [
    "from pycromanager import Core\n",
    "\n",
    "core = Core()\n",
    "stage = core.get_xy_stage_device()\n",
    "print(f\"XY stage: {stage}\")\n",
    "\n",
    "x = core.get_x_position(stage)\n",
    "y = core.get_y_position(stage)\n",
    "print(f\"Stage position: X={x}, Y={y}\")\n",
    "\n",
    "# Nudge +100 µm in Y\n",
    "core.set_relative_xy_position(stage, 0, 10)\n",
    "core.wait_for_device(stage)\n",
    "\n",
    "x_new = core.get_x_position(stage)\n",
    "y_new = core.get_y_position(stage)\n",
    "print(f\"After move: X={x_new}, Y={y_new}\")\n",
    "\n",
    "core.set_xy_position(x-200, y-200)\n",
    "core.wait_for_device(stage)\n",
    "x_new1 = core.get_x_position(stage)\n",
    "y_new1 = core.get_y_position(stage)\n",
    "print(f\"After move: X={x_new1}, Y={y_new1}\")\n",
    "\n"
   ]
  },
  {
   "cell_type": "code",
   "execution_count": null,
   "id": "dc878596",
   "metadata": {},
   "outputs": [
    {
     "name": "stdout",
     "output_type": "stream",
     "text": [
      "Current XY position: X = 0.00 µm, Y = 0.00 µm\n",
      "Current XY position: X = -199.90 µm, Y = -200.00 µm\n"
     ]
    }
   ],
   "source": [
    "#core.set_origin_xy(stage)\n",
    "# Read the current X and Y positions\n",
    "#core.set_origin_xy(stage)\n",
    "#stage = core.get_xy_stage_device()\n",
    "x = core.get_x_position(stage) # the y coordinates in maxone chip\n",
    "y = core.get_y_position(stage) # the x coordinates in maxone chip\n",
    "\n",
    "# Print the position\n",
    "print(f\"Current XY position: X = {x:.2f} µm, Y = {y:.2f} µm\")\n",
    "\n",
    "# Move to absolute position (in µm)\n",
    "core.set_xy_position(x-200, y-200)  # X=10 mm, Y=20 mm\n",
    "core.wait_for_device(stage)  # Wait for the stage to finish moving  \n",
    "x = core.get_x_position(stage)\n",
    "y = core.get_y_position(stage)\n",
    "print(f\"Current XY position: X = {x:.2f} µm, Y = {y:.2f} µm\")\n"
   ]
  },
  {
   "cell_type": "code",
   "execution_count": null,
   "id": "5c55f621",
   "metadata": {},
   "outputs": [
    {
     "name": "stdout",
     "output_type": "stream",
     "text": [
      "Current XY position: X = 0.00 µm, Y = 0.00 µm\n",
      "Current XY position: X = -200.00 µm, Y = -200.00 µm\n"
     ]
    }
   ],
   "source": [
    "core.set_adapter_origin_xy(stage, 0.0, 0.0)\n",
    "x = core.get_x_position(stage)\n",
    "y = core.get_y_position(stage)\n",
    "print(f\"Current XY position: X = {x:.2f} µm, Y = {y:.2f} µm\")\n",
    "\n",
    "core.set_xy_position(x-200, y-200)  # X=10 mm, Y=20 mm\n",
    "core.wait_for_device(stage)  # Wait for the stage to finish moving  \n",
    "x = core.get_x_position(stage)\n",
    "y = core.get_y_position(stage)\n",
    "print(f\"Current XY position: X = {x:.2f} µm, Y = {y:.2f} µm\")"
   ]
  },
  {
   "cell_type": "code",
   "execution_count": null,
   "id": "c3fad887",
   "metadata": {},
   "outputs": [
    {
     "name": "stdout",
     "output_type": "stream",
     "text": [
      "Stage position: X=-0.1, Y=0\n",
      "Stage position: X=-2200.1, Y=0\n",
      "Stage position: X=-2200.1, Y=3899.9\n",
      "Stage position: X=-0.1, Y=3899.9\n",
      "Stage position: X=-0.1, Y=0.1\n"
     ]
    }
   ],
   "source": [
    "# Move along the corners of MaxOne chip\n",
    "from time import sleep\n",
    "\n",
    "positions = [(0, 0), (-2200, 0), (-2200, 3900), (0, 3900), (0, 0)]\n",
    "for pos in positions:\n",
    "    core.set_xy_position(pos[0], pos[1])\n",
    "    core.wait_for_device(stage)  # Wait for the stage to finish moving\n",
    "\n",
    "    sleep(1)  # Optional: wait for a second to observe the position change\n",
    "    x_new = core.get_x_position(stage)\n",
    "    y_new = core.get_y_position(stage)\n",
    "    print(f\"Stage position: X={x_new}, Y={y_new}\")\n"
   ]
  },
  {
   "cell_type": "code",
   "execution_count": null,
   "id": "48308046",
   "metadata": {},
   "outputs": [
    {
     "name": "stdout",
     "output_type": "stream",
     "text": [
      "Stage position: X=-1050, Y=1942.6000000000001\n"
     ]
    }
   ],
   "source": [
    "# chip size 120/220 pixels each pixel is 17.5 microns\n",
    "step = 17.5\n",
    "x = 60\n",
    "y = 111\n",
    "pos = (-x*step, y*step)  # Move to the origin\n",
    "core.set_xy_position(pos[0], pos[1])\n",
    "core.wait_for_device(stage)  # Wait for the stage to finish moving\n",
    "\n",
    "sleep(1)  # Optional: wait for a second to observe the position change\n",
    "x_new = core.get_x_position(stage)\n",
    "y_new = core.get_y_position(stage)\n",
    "print(f\"Stage position: X={x_new}, Y={y_new}\")"
   ]
  },
  {
   "cell_type": "code",
   "execution_count": 2,
   "id": "27fbf5ea",
   "metadata": {},
   "outputs": [
    {
     "name": "stdout",
     "output_type": "stream",
     "text": [
      "-200\n"
     ]
    }
   ],
   "source": [
    "x = -400\n",
    "x1 = max(min(x, 1000), -200)\n",
    "print(x1)"
   ]
  }
 ],
 "metadata": {
  "kernelspec": {
   "display_name": "pattern",
   "language": "python",
   "name": "python3"
  },
  "language_info": {
   "codemirror_mode": {
    "name": "ipython",
    "version": 3
   },
   "file_extension": ".py",
   "mimetype": "text/x-python",
   "name": "python",
   "nbconvert_exporter": "python",
   "pygments_lexer": "ipython3",
   "version": "3.11.11"
  }
 },
 "nbformat": 4,
 "nbformat_minor": 5
}
