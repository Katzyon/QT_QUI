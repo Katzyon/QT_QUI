{
 "cells": [
  {
   "cell_type": "code",
   "execution_count": 1,
   "metadata": {},
   "outputs": [
    {
     "ename": "",
     "evalue": "",
     "output_type": "error",
     "traceback": [
      "\u001b[1;31mThe Kernel crashed while executing code in the the current cell or a previous cell. Please review the code in the cell(s) to identify a possible cause of the failure. Click <a href='https://aka.ms/vscodeJupyterKernelCrash'>here</a> for more info. View Jupyter <a href='command:jupyter.viewOutput'>log</a> for further details."
     ]
    }
   ],
   "source": [
    "import cv2\n",
    "image_path =  r\"D:\\DATA\\Patterns\\Patt_2023-11-13\\Images\\mask_output.tif\"\n",
    "# read the image\n",
    "img = cv2.imread(image_path)\n",
    "# normalize the image to 0 to max 255\n",
    "img = cv2.normalize(img, None, 0, 255, cv2.NORM_MINMAX)\n",
    "# show the image\n",
    "cv2.imshow('image', img)\n",
    "\n",
    "\n",
    "\n"
   ]
  },
  {
   "cell_type": "code",
   "execution_count": 8,
   "metadata": {},
   "outputs": [
    {
     "name": "stdout",
     "output_type": "stream",
     "text": [
      "[  0 255]\n",
      "[  0 255]\n",
      "[  0 255]\n",
      "[  0 255]\n",
      "[  0 255]\n",
      "[  0 255]\n",
      "[  0 255]\n",
      "[  0 255]\n",
      "[  0 255]\n",
      "[  0 255]\n",
      "[  0 255]\n",
      "[  0 255]\n"
     ]
    }
   ],
   "source": [
    "import numpy as np\n",
    "from PIL import Image\n",
    "\n",
    "def load_binary_image(image_path):\n",
    "    \"\"\" Load a binary image and return it as a numpy array \"\"\"\n",
    "    with Image.open(image_path) as img:\n",
    "        #print((np.unique(img)))\n",
    "        return np.array(img)\n",
    "\n",
    "def sum_images_by_group(cell_group_mapping, image_folder):\n",
    "    \"\"\" Sum binary images according to their group IDs \"\"\"\n",
    "    group_sums = {}\n",
    "    \n",
    "    for cell_id, group_ids in cell_group_mapping.items():\n",
    "        image_path = f\"{image_folder}/{cell_id}.bmp\"  # Adjusted path format\n",
    "        cell_image = load_binary_image(image_path)\n",
    "\n",
    "        for group_id in group_ids:\n",
    "            if group_id in group_sums:\n",
    "                group_sums[group_id] += cell_image\n",
    "            else:\n",
    "                group_sums[group_id] = cell_image.copy()\n",
    "\n",
    "    return group_sums\n",
    "\n",
    "# Example usage\n",
    "cell_group_mapping =  {8: [1], 17: [1], 20: [1], 14: [1], 21: [2], 24: [2], 16: [2], 5: [2], 3: [3], 2: [3], 13: [3], 6: [3]}  # cell number: group number\n",
    "image_folder = 'D:\\DATA\\Patterns\\Patt_2023-11-14\\DMD'  # Replace with your images folder path\n",
    "grouped_images = sum_images_by_group(cell_group_mapping, image_folder)\n",
    "\n",
    "# To save or further process the grouped_images, additional code is needed\n"
   ]
  },
  {
   "cell_type": "code",
   "execution_count": 3,
   "metadata": {},
   "outputs": [
    {
     "name": "stdout",
     "output_type": "stream",
     "text": [
      "<class 'dict'>\n",
      "3\n"
     ]
    },
    {
     "data": {
      "image/png": "[encoded data removed]",
      "text/plain": [
       "<Figure size 2000x2000 with 3 Axes>"
      ]
     },
     "metadata": {},
     "output_type": "display_data"
    }
   ],
   "source": [
    "print(type(grouped_images))\n",
    "print(len(grouped_images))\n",
    "\n",
    "# plot the images from group_sums\n",
    "import matplotlib.pyplot as plt\n",
    "fig, axes = plt.subplots(1, len(grouped_images), figsize=(20, 20))\n",
    "for i, (group_id, image) in enumerate(grouped_images.items()):\n",
    "    axes[i].imshow(image, cmap='gray')\n",
    "    axes[i].set_title(f\"Group {group_id}\")\n",
    "plt.show()\n",
    "\n",
    "\n",
    "\n"
   ]
  },
  {
   "cell_type": "code",
   "execution_count": 7,
   "metadata": {},
   "outputs": [
    {
     "name": "stdout",
     "output_type": "stream",
     "text": [
      "dict_values([[1, 3, 7], [2, 4, 6], [5, 8, 9]])\n",
      "[1, 3, 7]\n",
      "[1, 3, 7, 10]\n",
      "{1: [1, 3, 7, 10], 2: [2, 4, 6], 3: [5, 8, 9], 4: [11, 12, 13]}\n",
      "{1: [1, 3, 7, 10], 2: [2, 4, 6], 3: [5, 8, 9], 4: [11, 14, 13]}\n"
     ]
    }
   ],
   "source": [
    "groups = {1:[1,3,7], 2:[2,4,6], 3:[5,8,9]}\n",
    "# get the values of the dictionary\n",
    "values = groups.values()\n",
    "print(values)\n",
    "# get the values of the second group\n",
    "print(groups[1])\n",
    "groups[1].append(10)\n",
    "print(groups[1])\n",
    "groups[4] = [11,12,13]\n",
    "print(groups)\n",
    "# change the senocnd value of the fourth group\n",
    "groups[4][1] = 14 # index starts from 0\n",
    "print(groups)\n",
    "\n"
   ]
  },
  {
   "cell_type": "code",
   "execution_count": 3,
   "metadata": {},
   "outputs": [
    {
     "name": "stdout",
     "output_type": "stream",
     "text": [
      "  Header1 Header2\n",
      "0    True   False\n",
      "1       3      10\n",
      "2     0.6       4\n",
      "             0   1    2\n",
      "Header1   True   3  0.6\n",
      "Header2  False  10    4\n"
     ]
    }
   ],
   "source": [
    "import pandas as pd\n",
    "\n",
    "# Example: DataFrame with stages as rows and parameters as columns\n",
    "data = {\n",
    "    'Header1': [True, 3, 0.6],\n",
    "    'Header2': [False, 10, 4],\n",
    "    # Add more headers and corresponding parameters\n",
    "}\n",
    "\n",
    "df = pd.DataFrame(data)\n",
    "print(df.to_string())\n",
    "#df.to_csv('experiment_data.csv', index=False)\n",
    "df_transposed = df.T\n",
    "\n",
    "# Print the transposed DataFrame\n",
    "print(df_transposed.to_string())\n"
   ]
  },
  {
   "cell_type": "code",
   "execution_count": 7,
   "metadata": {},
   "outputs": [
    {
     "name": "stdout",
     "output_type": "stream",
     "text": [
      "{'stimulation_type': '3', 'random_frequency': '2', 'jitter': True, 'group_frequency': '1', 'group_size': '3', 'stimulation_time': '4'}\n",
      "  stimulation_type random_frequency  jitter group_frequency group_size stimulation_time\n",
      "0                3                2    True               1          3                4\n"
     ]
    }
   ],
   "source": [
    "import pandas as pd\n",
    "# create empty dataframe\n",
    "df1 = pd.DataFrame()\n",
    "\n",
    "a =  {\n",
    "\n",
    " \n",
    "            \"stimulation_type\": '3',\n",
    "            \"random_frequency\": '2',\n",
    "            \"jitter\": True,\n",
    "            \"group_frequency\": '1',\n",
    "            \"group_size\": '3',\n",
    "            \"stimulation_time\": '4',\n",
    "            # Other parameters...   \n",
    "        }\n",
    "print(a)\n",
    "# Convert the dictionary to a DataFrame\n",
    "df = pd.DataFrame([a])\n",
    "# Append the DataFrame to the empty DataFrame\n",
    "df1 = pd.concat([df1, df], ignore_index=True)\n",
    "print(df1.to_string())\n"
   ]
  },
  {
   "cell_type": "code",
   "execution_count": 11,
   "metadata": {},
   "outputs": [
    {
     "name": "stdout",
     "output_type": "stream",
     "text": [
      "hi mernsdfng\n"
     ]
    }
   ],
   "source": [
    "\n",
    "from tkinter import simpledialog\n",
    "# Prompt the user for input\n",
    "user_input = simpledialog.askstring(\"Input\", \"Please enter your text:\")\n",
    "# Print or use the input\n",
    "print(user_input)\n",
    "\n",
    "\n"
   ]
  },
  {
   "cell_type": "code",
   "execution_count": 41,
   "metadata": {},
   "outputs": [
    {
     "name": "stdout",
     "output_type": "stream",
     "text": [
      "(1140, 912)\n",
      "6\n",
      "4\n",
      "5\n",
      "4\n",
      "[[22, 24, 2, 13, 9, 31], [36, 26, 29, 20, 30, 4], [34, 33, 32, 18, 6, 8], [1, 35, 10, 11, 14, 23], [3], [5], [7], [12], [15], [16], [17], [19], [21], [25], [27], [28]]\n",
      "[[1, 14, 36, 32, 29], [25, 28, 23, 5, 3], [20, 16, 26, 30, 13], [34, 19, 33, 8, 12], [2], [4], [6], [7], [9], [10], [11], [15], [17], [18], [21], [22], [24], [27], [31], [35]]\n"
     ]
    },
    {
     "data": {
      "image/png": "[encoded data removed]",
      "text/plain": [
       "<Figure size 2000x2000 with 20 Axes>"
      ]
     },
     "metadata": {},
     "output_type": "display_data"
    }
   ],
   "source": [
    "# load csv file as a dataframe from G:\\My Drive\\Research\\Projects\\Theory of cortical mind\\Object representation\\Software\\Python\\QT_GUI\\MainGUI\\Protocols\\20231123_111456_T_protocol.csv\n",
    "import pandas as pd\n",
    "import os\n",
    "import glob\n",
    "import cv2\n",
    "import random\n",
    "\n",
    "\n",
    "\n",
    "\n",
    "\n",
    "\n",
    "def create_random_groups(numberCells, groupsNumber, group_size):\n",
    "    # Check if the total number of required group members exceeds the numberCells\n",
    "    if groupsNumber * group_size > numberCells:\n",
    "        raise ValueError(\"Not enough cells to create the required number of groups without repeats\")\n",
    "\n",
    "    all_cells = list(range(1, numberCells + 1))\n",
    "    groups = []\n",
    "\n",
    "    for _ in range(groupsNumber):\n",
    "        group = random.sample(all_cells, group_size)\n",
    "        groups.append(group)\n",
    "        # Remove the selected cells to ensure no repeats\n",
    "        for cell in group:\n",
    "            all_cells.remove(cell)\n",
    "\n",
    "    # create a list of the remaining cells\n",
    "    remaining_cells = [[item] for item in all_cells]\n",
    "\n",
    "    return groups, remaining_cells\n",
    "\n",
    "\n",
    "# set the path to the csv file\n",
    "csv_path = r'G:\\My Drive\\Research\\Projects\\Theory of cortical mind\\Object representation\\Software\\Python\\QT_GUI\\MainGUI\\Protocols\\20231123_163058_r_protocol.csv'\n",
    "# read the csv file as a dataframe\n",
    "df = pd.read_csv(csv_path)\n",
    "headers = list(df.columns)\n",
    "data = df.values.tolist()\n",
    "#print(headers)\n",
    "#print(\"number of stages\", len(df))\n",
    "#print(data)\n",
    "\n",
    "\n",
    "# load the DMD images from D:\\DATA\\Patterns\\Patt_2023-11-23\\DMD into a list\n",
    "# set the path to the DMD images\n",
    "image_folder = r'D:\\DATA\\Patterns\\Patt_2023-11-23\\DMD'\n",
    "# get the list of images\n",
    "images = glob.glob(os.path.join(image_folder, '*.bmp'))\n",
    "# sort the images by name\n",
    "images.sort(key=lambda x: int(os.path.splitext(os.path.basename(x))[0]))\n",
    "\n",
    "# load the images into a list\n",
    "images_list = []\n",
    "for image in images:\n",
    "    img = cv2.imread(image, cv2.IMREAD_GRAYSCALE)\n",
    "    images_list.append(img)\n",
    "\n",
    "number_cells = len(images_list)\n",
    "print(images_list[0].shape)\n",
    "# run over the dataframe rows and group the images according to the group size and the number of groups\n",
    "# loop over the dataframe rows and create random groups according to the group size and the number of groups\n",
    "\n",
    "sequences = []\n",
    "for index, row in df.iterrows():\n",
    "    sequence = []\n",
    "    #print(index)\n",
    "    # get the group size\n",
    "    group_size = int(row['groupSize'])\n",
    "    print(group_size)\n",
    "    # get the number of groups\n",
    "    groups_number = int(row['groupsNumber'])\n",
    "    print(groups_number)\n",
    "    # get the number of cells\n",
    "    \n",
    "    # create random groups\n",
    "\n",
    "    groups, remainingCells = create_random_groups(number_cells, groups_number, group_size)\n",
    "    sequence = groups + remainingCells\n",
    "    sequences.append(sequence)\n",
    "\n",
    "print(sequences[0])\n",
    "print(sequences[1])\n",
    "\n",
    "# create a list of the images according to the sequences. If group size is larger than 1, the images are summed\n",
    "sequences_images = []\n",
    "for stage in sequences:\n",
    "    sequence_images = []\n",
    "    for group in stage: # group is a list of cells either of size 1 or larger\n",
    "        group_images = []\n",
    "        for cell in group:\n",
    "            group_images.append(images_list[cell - 1])\n",
    "        # sum the images in the group\n",
    "        group_sum = sum(group_images)\n",
    "        sequence_images.append(group_sum)\n",
    "    sequences_images.append(sequence_images)\n",
    "    \n",
    "# plot the images from group_sums\n",
    "import matplotlib.pyplot as plt\n",
    "fig, axes = plt.subplots(1, len(sequences_images[1]), figsize=(20, 20))\n",
    "for i, image in enumerate(sequences_images[1]):\n",
    "    axes[i].imshow(image, cmap='gray')\n",
    "    axes[i].set_title(f\"Group {i}\") \n",
    "plt.show()\n"
   ]
  },
  {
   "cell_type": "code",
   "execution_count": 42,
   "metadata": {},
   "outputs": [
    {
     "name": "stdout",
     "output_type": "stream",
     "text": [
      "Index: 0, Column1: 1, Column2: a\n",
      "Index: 1, Column1: 2, Column2: b\n",
      "Index: 2, Column1: 3, Column2: c\n"
     ]
    }
   ],
   "source": [
    "import pandas as pd\n",
    "\n",
    "# Example DataFrame\n",
    "data = {'Column1': [1, 2, 3], 'Column2': ['a', 'b', 'c']}\n",
    "df = pd.DataFrame(data)\n",
    "\n",
    "# Using iterrows to iterate through the DataFrame\n",
    "for index, row in df.iterrows():\n",
    "    print(f\"Index: {index}, Column1: {row['Column1']}, Column2: {row['Column2']}\")"
   ]
  },
  {
   "cell_type": "code",
   "execution_count": 16,
   "metadata": {},
   "outputs": [
    {
     "name": "stdout",
     "output_type": "stream",
     "text": [
      "[[1], [2], [3], [4], [5]]\n"
     ]
    }
   ],
   "source": [
    "original_list = [1, 2, 3, 4, 5]  # Example original list\n",
    "individual_lists = [[item] for item in original_list]\n",
    "print(individual_lists)\n"
   ]
  },
  {
   "cell_type": "code",
   "execution_count": 5,
   "metadata": {},
   "outputs": [
    {
     "name": "stdout",
     "output_type": "stream",
     "text": [
      "Task completed.\n"
     ]
    }
   ],
   "source": [
    "import threading\n",
    "import time\n",
    "import sys\n",
    "\n",
    "# Spinner\n",
    "def spinner():\n",
    "    spinner_chars = \"|/-\\\\\"\n",
    "    while True:\n",
    "        for char in spinner_chars:\n",
    "            sys.stdout.write(char)\n",
    "            sys.stdout.flush()\n",
    "            sys.stdout.write('\\b')\n",
    "            if stop_spinner:\n",
    "                return\n",
    "            time.sleep(0.1)\n",
    "\n",
    "# Long task\n",
    "def long_task():\n",
    "    # Simulate a long task\n",
    "    time.sleep(5)\n",
    "\n",
    "# Start spinner\n",
    "stop_spinner = False\n",
    "spinner_thread = threading.Thread(target=spinner)\n",
    "spinner_thread.start()\n",
    "\n",
    "# Run long task\n",
    "long_task()\n",
    "\n",
    "# Stop spinner\n",
    "stop_spinner = True\n",
    "spinner_thread.join()\n",
    "\n",
    "print(\"Task completed.\")"
   ]
  },
  {
   "cell_type": "code",
   "execution_count": 14,
   "metadata": {},
   "outputs": [
    {
     "name": "stdout",
     "output_type": "stream",
     "text": [
      "groupSize: 4\n",
      "groupsNumber: 3\n",
      "[[17, 7, 8, 2], [19, 6, 10, 13], [12, 18, 5, 20], [1], [3], [4], [9], [11], [14], [15], [16]]\n"
     ]
    }
   ],
   "source": [
    "import pandas as pd\n",
    "import random\n",
    "\n",
    "      \n",
    "\n",
    "# Data\n",
    "data = {\n",
    "    \"stimType\": [\"Random\"],\n",
    "    \"randFreq\": [1],\n",
    "    \"jitter\": [False],\n",
    "    \"groupFreq\": [0.5],\n",
    "    \"groupSize\": [4],\n",
    "    \"groupsNumber\": [3],\n",
    "    \"stimTime\": [2]\n",
    "}\n",
    "\n",
    "df = pd.DataFrame(data)\n",
    "numberCells = 20\n",
    "\n",
    "sequences = []\n",
    "for index, row in df.iterrows():    \n",
    "\n",
    "    sequence = []\n",
    "    #print(\"index:\", index)\n",
    "    # get the group size\n",
    "    groupSize = int(row['groupSize'])\n",
    "    print(\"groupSize:\", groupSize)\n",
    "    # get the number of groups\n",
    "    groupsNumber = int(row['groupsNumber'])\n",
    "    print(\"groupsNumber:\", groupsNumber)\n",
    "\n",
    "    if groupsNumber * groupSize > numberCells:\n",
    "        raise ValueError(\"Not enough cells to create the required number of groups without repeats\")\n",
    "\n",
    "    all_cells = list(range(1, numberCells + 1))\n",
    "    groups = []\n",
    "\n",
    "    for _ in range(groupsNumber):\n",
    "        group = random.sample(all_cells, groupSize)\n",
    "        groups.append(group)\n",
    "        # Remove the selected cells to ensure no repeats\n",
    "        for cell in group:\n",
    "            all_cells.remove(cell)\n",
    "\n",
    "        # create seperate list of each of the remaining cells\n",
    "    remaining_cells = [[item] for item in all_cells]\n",
    "\n",
    "    sequence = groups + remaining_cells # indices of the cells to be stimulated in a sequence\n",
    "    sequences.append(sequence) # each stage has one list in sequences\n",
    "\n",
    "print(sequences[0])\n"
   ]
  },
  {
   "cell_type": "code",
   "execution_count": null,
   "metadata": {},
   "outputs": [],
   "source": []
  }
 ],
 "metadata": {
  "kernelspec": {
   "display_name": "patt",
   "language": "python",
   "name": "python3"
  },
  "language_info": {
   "codemirror_mode": {
    "name": "ipython",
    "version": 3
   },
   "file_extension": ".py",
   "mimetype": "text/x-python",
   "name": "python",
   "nbconvert_exporter": "python",
   "pygments_lexer": "ipython3",
   "version": "3.11.3"
  }
 },
 "nbformat": 4,
 "nbformat_minor": 2
}
