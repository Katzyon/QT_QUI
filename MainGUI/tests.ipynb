{
 "cells": [
  {
   "cell_type": "code",
   "execution_count": 17,
   "id": "fca0a76d",
   "metadata": {},
   "outputs": [
    {
     "name": "stdout",
     "output_type": "stream",
     "text": [
      "Found pickle file: 2025-04-14_11-10.pkl\n",
      "Last protocol folder: Protocol_4\n",
      "Found protocol pickle files: [WindowsPath('D:/DATA/Patterns/123/Culture/Protocols/Protocol_4/sequence_0.pkl'), WindowsPath('D:/DATA/Patterns/123/Culture/Protocols/Protocol_4/protocol_4.pkl')]\n",
      "Found sequence file: sequence_0.pkl\n",
      "Found protocol file: protocol_4.pkl\n",
      "Loaded protocol file: protocol_4.pkl\n",
      "{'stages_table':   stim_type  jitter  background_freq  groups_period  group_size  \\\n",
      "0    Random   False                1            400           5   \n",
      "\n",
      "   groups_number  stim_time  on_time  is_manual_sequence  prob_stim  \\\n",
      "0              2          1        5               False      False   \n",
      "\n",
      "  output_group  \n",
      "0           []  , 'manual_sequence': [], 'stages': [<Protocol.Stage object at 0x00000221817BEC90>], 'n_rows': 1, 'protocols_directory': 'D:\\\\DATA\\\\Patterns\\\\123\\\\Culture\\\\Protocols', 'current_protocol_dir': 'D:\\\\DATA\\\\Patterns\\\\123\\\\Culture\\\\Protocols\\\\Protocol_4', 'protocols_number': 3, 'headers': ['stim_type', 'jitter', 'background_freq', 'groups_period', 'group_size', 'groups_number', 'stim_time', 'on_time', 'is_manual_sequence', 'prob_stim', 'output_group'], 'data': [['Random', False, 1, 400, 5, 2, 1, 5, False, False, '[]']], 'number_cells': 11}\n"
     ]
    }
   ],
   "source": [
    "import pickle\n",
    "from culture_data import Culture # import the Culture class\n",
    "from protocolSet import ProtocolSet # import the ProtocolSet class\n",
    "from Protocol import Stage # \n",
    "import os\n",
    "from pathlib import Path\n",
    "import re\n",
    "import pprint\n",
    "from datetime import datetime\n",
    "\n",
    "culture_dir = Path(r'D:\\DATA\\Patterns\\123\\Culture')\n",
    "\n",
    "# Match all .pkl files, regardless of name\n",
    "pkl_files = sorted(culture_dir.glob('*.pkl'), key=os.path.getmtime, reverse=True)\n",
    "\n",
    "if not pkl_files:\n",
    "    print(\"No pickle files found in:\", culture_dir.resolve())\n",
    "else:\n",
    "    latest_file = pkl_files[0]\n",
    "    print(\"Found pickle file:\", latest_file.name)\n",
    "\n",
    "    with open(latest_file, 'rb') as f:\n",
    "        culture = pickle.load(f)\n",
    "        # print(\"Loaded Culture object:\", culture)\n",
    "        # print(type(culture))\n",
    "        #print(culture.__dict__)\n",
    "\n",
    "# get the latest protocol folder\n",
    "protocols_dir = Path(r'D:\\DATA\\Patterns\\123\\Culture\\Protocols')\n",
    "\n",
    "# Match folders like Protocol_0, Protocol_1, ..., Protocol_N\n",
    "protocol_folders = [f for f in protocols_dir.iterdir() if f.is_dir() and re.match(r'^Protocol_\\d+$', f.name)]\n",
    "\n",
    "# Extract numeric index and find max\n",
    "if protocol_folders:\n",
    "    last_protocol = max(protocol_folders, key=lambda f: int(f.name.split('_')[1]))\n",
    "    print(\"Last protocol folder:\", last_protocol.name)\n",
    "    pkl_prot_files = sorted(last_protocol.glob('*.pkl'), key=os.path.getmtime, reverse=True)\n",
    "    print(\"Found protocol pickle files:\", pkl_prot_files)\n",
    "else:\n",
    "    print(\"No Protocol_* folders found.\")\n",
    "\n",
    "# Locate the sequence file in pkl_prot_files\n",
    "seq_file = None\n",
    "prot_file = None\n",
    "for file in pkl_prot_files:\n",
    "    if 'seq' in file.name:\n",
    "        seq_file = file\n",
    "        print(\"Found sequence file:\", file.name)\n",
    "        \n",
    "    if 'prot' in file.name:\n",
    "        prot_file = file\n",
    "        print(\"Found protocol file:\", file.name)\n",
    "        \n",
    "\n",
    "# open the sequence file and print the contents\n",
    "# if seq_file:\n",
    "#     with open(seq_file, 'rb') as f:\n",
    "#         seq = pickle.load(f)\n",
    "#         print(\"Loaded sequence file:\", seq_file.name)\n",
    "#     pprint.pprint(seq)\n",
    "#     start_dt = datetime.fromtimestamp(seq['start_time'])\n",
    "#     print(\"Start time (local):\", start_dt)\n",
    "    \n",
    "# open the protocol file and print the contents\n",
    "if prot_file:\n",
    "    with open(prot_file, 'rb') as f:\n",
    "        prot = pickle.load(f)\n",
    "        print(\"Loaded protocol file:\", prot_file.name)\n",
    "        print(prot.__dict__)\n"
   ]
  },
  {
   "cell_type": "code",
   "execution_count": null,
   "id": "4c885b65",
   "metadata": {},
   "outputs": [
    {
     "name": "stdout",
     "output_type": "stream",
     "text": [
      "False\n",
      "No CUDA device\n"
     ]
    },
    {
     "ename": "",
     "evalue": "",
     "output_type": "error",
     "traceback": [
      "\u001b[1;31mThe Kernel crashed while executing code in the current cell or a previous cell. \n",
      "\u001b[1;31mPlease review the code in the cell(s) to identify a possible cause of the failure. \n",
      "\u001b[1;31mClick <a href='https://aka.ms/vscodeJupyterKernelCrash'>here</a> for more info. \n",
      "\u001b[1;31mView Jupyter <a href='command:jupyter.viewOutput'>log</a> for further details."
     ]
    }
   ],
   "source": [
    "import torch\n",
    "print(torch.cuda.is_available())\n",
    "print(torch.cuda.get_device_name(0) if torch.cuda.is_available() else \"No CUDA device\")\n"
   ]
  }
 ],
 "metadata": {
  "kernelspec": {
   "display_name": "pattern",
   "language": "python",
   "name": "python3"
  },
  "language_info": {
   "codemirror_mode": {
    "name": "ipython",
    "version": 3
   },
   "file_extension": ".py",
   "mimetype": "text/x-python",
   "name": "python",
   "nbconvert_exporter": "python",
   "pygments_lexer": "ipython3",
   "version": "3.11.11"
  }
 },
 "nbformat": 4,
 "nbformat_minor": 5
}
